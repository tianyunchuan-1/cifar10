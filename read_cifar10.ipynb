{
 "cells": [
  {
   "cell_type": "code",
   "execution_count": 1,
   "metadata": {},
   "outputs": [],
   "source": [
    "import matplotlib.pyplot as plt\n",
    "import pickle\n",
    "def unpickle(file):\n",
    "    with open(file, 'rb') as fo:\n",
    "        dict = pickle.load(fo, encoding='bytes')\n",
    "    return dict\n",
    "label_name = [\"airplane\",\"automobile\",\"bird\",\"cat\",\"deer\",\\\n",
    "              \"dog\",\"frog\",\"horse\",\"ship\",\"truck\"]"
   ]
  },
  {
   "cell_type": "code",
   "execution_count": 1,
   "metadata": {},
   "outputs": [
    {
     "data": {
      "text/plain": [
       "'C:/Users/tianyunchuan/iCloudDrive/_data_\\\\data_ml\\\\cifar-10-batches-py'"
      ]
     },
     "execution_count": 1,
     "metadata": {},
     "output_type": "execute_result"
    }
   ],
   "source": [
    "import glob\n",
    "import numpy as np\n",
    "import cv2\n",
    "import os\n",
    "import _path\n",
    "\n",
    "PATH_HEAD = _path.PATH_HEAD\n",
    "PATH_SAVE_PIC = r'{}_data_\\data_ml\\cifar-10-picture\\TRAIN'.format(PATH_HEAD)\n",
    "PATH_SAVE_PIC\n",
    "# PATH_SAVE_PIC = r'C:\\Users\\tianyunchuan\\iCloudDrive\\_data_\\data_ml\\cifar-10-picture\\TRAIN'"
   ]
  },
  {
   "cell_type": "code",
   "execution_count": 6,
   "metadata": {},
   "outputs": [
    {
     "data": {
      "text/plain": [
       "['C:/Users/tianyunchuan/iCloudDrive/_data_\\\\data_ml\\\\cifar-10-batches-py\\\\data_batch_1',\n",
       " 'C:/Users/tianyunchuan/iCloudDrive/_data_\\\\data_ml\\\\cifar-10-batches-py\\\\data_batch_2',\n",
       " 'C:/Users/tianyunchuan/iCloudDrive/_data_\\\\data_ml\\\\cifar-10-batches-py\\\\data_batch_3',\n",
       " 'C:/Users/tianyunchuan/iCloudDrive/_data_\\\\data_ml\\\\cifar-10-batches-py\\\\data_batch_4',\n",
       " 'C:/Users/tianyunchuan/iCloudDrive/_data_\\\\data_ml\\\\cifar-10-batches-py\\\\data_batch_5']"
      ]
     },
     "execution_count": 6,
     "metadata": {},
     "output_type": "execute_result"
    }
   ],
   "source": [
    "train_list = glob.glob(r'{}_data_\\data_ml\\cifar-10-batches-py\\data_batch_*'.format(PATH_HEAD))\n",
    "# train_list = glob.glob(r'C:\\Users\\tianyunchuan\\iCloudDrive\\_data_\\data_ml\\cifar-10-batches-py\\data_batch_*')\n",
    "train_list"
   ]
  },
  {
   "cell_type": "code",
   "execution_count": 4,
   "metadata": {},
   "outputs": [
    {
     "name": "stdout",
     "output_type": "stream",
     "text": [
      "C:\\Users\\tianyunchuan\\iCloudDrive\\_data_\\data_ml\\cifar-10-batches-py\\data_batch_1\n",
      "C:\\Users\\tianyunchuan\\iCloudDrive\\_data_\\data_ml\\cifar-10-batches-py\\data_batch_2\n",
      "C:\\Users\\tianyunchuan\\iCloudDrive\\_data_\\data_ml\\cifar-10-batches-py\\data_batch_3\n",
      "C:\\Users\\tianyunchuan\\iCloudDrive\\_data_\\data_ml\\cifar-10-batches-py\\data_batch_4\n",
      "C:\\Users\\tianyunchuan\\iCloudDrive\\_data_\\data_ml\\cifar-10-batches-py\\data_batch_5\n"
     ]
    }
   ],
   "source": [
    "for _l in train_list:\n",
    "    print(_l)\n",
    "    l_dict = unpickle(_l)\n",
    "#     print(l_dict)\n",
    "    for im_idx, im_data in enumerate(l_dict[b'data']):\n",
    "#         print(im_idx)\n",
    "#         print(im_data)\n",
    "        im_label = l_dict[b'labels'][im_idx]\n",
    "        im_name = l_dict[b'filenames'][im_idx]\n",
    "#         print(im_label, im_name, im_data)\n",
    "        im_label_name = label_name[im_label]\n",
    "        im_data = np.reshape(im_data, [3, 32, 32])\n",
    "        im_data = np.transpose(im_data, [1, 2, 0])\n",
    "        \n",
    "#         cv2.imshow('im_data', cv2.resize(im_data,(200, 200)))\n",
    "#         cv2.waitKey(0)\n",
    "#         cv2.destroyAllWindows()\n",
    "        \n",
    "        if not os.path.exists('{}/{}'.format(PATH_SAVE_PIC, im_label_name)):\n",
    "            os.mkdir('{}/{}'.format(PATH_SAVE_PIC, im_label_name))\n",
    "        cv2.imwrite('{}/{}/{}'.format(PATH_SAVE_PIC, im_label_name, \\\n",
    "                                      im_name.decode('utf-8')), im_data)\n",
    "        \n",
    "\n"
   ]
  },
  {
   "cell_type": "markdown",
   "metadata": {},
   "source": [
    "### Test 图片保存"
   ]
  },
  {
   "cell_type": "code",
   "execution_count": 8,
   "metadata": {},
   "outputs": [
    {
     "data": {
      "text/plain": [
       "'C:/Users/tianyunchuan/iCloudDrive/_data_\\\\data_ml\\\\cifar-10-picture\\\\TEST'"
      ]
     },
     "execution_count": 8,
     "metadata": {},
     "output_type": "execute_result"
    }
   ],
   "source": [
    "#PATH_SAVE_PIC_TEST = r'C:\\Users\\tianyunchuan\\iCloudDrive\\_data_\\data_ml\\cifar-10-picture\\TEST'\n",
    "PATH_SAVE_PIC_TEST = r'{}_data_\\data_ml\\cifar-10-picture\\TEST'.format(PATH_HEAD)\n",
    "PATH_SAVE_PIC_TEST"
   ]
  },
  {
   "cell_type": "code",
   "execution_count": 9,
   "metadata": {},
   "outputs": [
    {
     "data": {
      "text/plain": [
       "['C:/Users/tianyunchuan/iCloudDrive/_data_\\\\data_ml\\\\cifar-10-batches-py\\\\test_batch']"
      ]
     },
     "execution_count": 9,
     "metadata": {},
     "output_type": "execute_result"
    }
   ],
   "source": [
    "test_list = glob.glob(r'{}_data_\\data_ml\\cifar-10-batches-py\\test_batch'.format(PATH_HEAD))\n",
    "test_list"
   ]
  },
  {
   "cell_type": "code",
   "execution_count": 8,
   "metadata": {},
   "outputs": [
    {
     "name": "stdout",
     "output_type": "stream",
     "text": [
      "C:\\Users\\tianyunchuan\\iCloudDrive\\_data_\\data_ml\\cifar-10-batches-py\\test_batch\n"
     ]
    }
   ],
   "source": [
    "for _l in test_list:\n",
    "    print(_l)\n",
    "    l_dict = unpickle(_l)\n",
    "#     print(l_dict)\n",
    "    for im_idx, im_data in enumerate(l_dict[b'data']):\n",
    "#         print(im_idx)\n",
    "#         print(im_data)\n",
    "        im_label = l_dict[b'labels'][im_idx]\n",
    "        im_name = l_dict[b'filenames'][im_idx]\n",
    "#         print(im_label, im_name, im_data)\n",
    "        im_label_name = label_name[im_label]\n",
    "        im_data = np.reshape(im_data, [3, 32, 32])\n",
    "        im_data = np.transpose(im_data, [1, 2, 0])\n",
    "        \n",
    "#         cv2.imshow('im_data', cv2.resize(im_data,(200, 200)))\n",
    "#         cv2.waitKey(0)\n",
    "#         cv2.destroyAllWindows()\n",
    "        \n",
    "        if not os.path.exists('{}/{}'.format(PATH_SAVE_PIC_TEST, im_label_name)):\n",
    "            os.mkdir('{}/{}'.format(PATH_SAVE_PIC_TEST, im_label_name))\n",
    "        cv2.imwrite('{}/{}/{}'.format(PATH_SAVE_PIC_TEST, im_label_name, \\\n",
    "                                      im_name.decode('utf-8')), im_data)\n",
    "        "
   ]
  },
  {
   "cell_type": "code",
   "execution_count": null,
   "metadata": {},
   "outputs": [],
   "source": []
  }
 ],
 "metadata": {
  "kernelspec": {
   "display_name": "Python 3",
   "language": "python",
   "name": "python3"
  },
  "language_info": {
   "codemirror_mode": {
    "name": "ipython",
    "version": 3
   },
   "file_extension": ".py",
   "mimetype": "text/x-python",
   "name": "python",
   "nbconvert_exporter": "python",
   "pygments_lexer": "ipython3",
   "version": "3.7.6"
  }
 },
 "nbformat": 4,
 "nbformat_minor": 4
}
