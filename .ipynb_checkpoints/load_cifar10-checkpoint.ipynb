{
 "cells": [
  {
   "cell_type": "code",
   "execution_count": 1,
   "metadata": {},
   "outputs": [],
   "source": [
    "from torchvision import transforms\n",
    "from torch.utils.data import DataLoader, Dataset\n",
    "import os\n",
    "from PIL import Image\n",
    "import numpy as np\n",
    "import glob\n",
    "\n",
    "import _path\n",
    "\n",
    "PATH_HEAD = _path.PATH_HEAD"
   ]
  },
  {
   "cell_type": "code",
   "execution_count": 2,
   "metadata": {},
   "outputs": [
    {
     "data": {
      "text/plain": [
       "{'airplane': 0,\n",
       " 'automobile': 1,\n",
       " 'bird': 2,\n",
       " 'cat': 3,\n",
       " 'deer': 4,\n",
       " 'dog': 5,\n",
       " 'frog': 6,\n",
       " 'horse': 7,\n",
       " 'ship': 8,\n",
       " 'truck': 9}"
      ]
     },
     "execution_count": 2,
     "metadata": {},
     "output_type": "execute_result"
    }
   ],
   "source": [
    "label_name = [\"airplane\",\"automobile\",\"bird\",\"cat\",\"deer\",\\\n",
    "              \"dog\",\"frog\",\"horse\",\"ship\",\"truck\"]\n",
    "label_dict = {}\n",
    "\n",
    "for idx, name in enumerate(label_name):\n",
    "    label_dict[name] = idx\n",
    "label_dict"
   ]
  },
  {
   "cell_type": "code",
   "execution_count": 3,
   "metadata": {},
   "outputs": [],
   "source": [
    "def default_loader():\n",
    "    return Image.open(path).convert('RGB')\n",
    "\n",
    "train_transform = transforms.Compose([\n",
    "    transforms.RandomResizedCrop(28),\n",
    "    transforms.RandomHorizontalFlip(),\n",
    "    transforms.RandomVerticalFlip(),\n",
    "    transforms.RandomRotation(90),\n",
    "    transforms.RandomGrayscale(0.1),\n",
    "    transforms.ColorJitter(brightness=0.2, contrast=0.2, hue=0.2),\n",
    "    transforms.ToTensor(),\n",
    "])"
   ]
  },
  {
   "cell_type": "code",
   "execution_count": 4,
   "metadata": {},
   "outputs": [],
   "source": [
    "class MyDataset(Dataset):\n",
    "    def __init__(self, im_list, transform=None, loader = default_loader):\n",
    "        super(MyDataset, self).__init__()\n",
    "        imgs = []\n",
    "        \n",
    "        for im_item in im_list:\n",
    "            im_label_name = im_item.split('\\\\')[-2]\n",
    "            imgs.append([im_item, label_dict[im_label_name]])\n",
    "        \n",
    "        self.imgs = imgs\n",
    "        self.transform = transform\n",
    "        self.loader = loader\n",
    "\n",
    "    def __getitem__(self, index):\n",
    "        im_path, im_label = self.imgs[index]        \n",
    "        im_data = self.loader(im_path)        \n",
    "        if self.transform is not None:\n",
    "            im_data = self.transform(im_data)        \n",
    "        return im_data, im_label\n",
    "    \n",
    "    def __len__(self):\n",
    "        return len(self.imgs)"
   ]
  },
  {
   "cell_type": "code",
   "execution_count": 5,
   "metadata": {},
   "outputs": [
    {
     "data": {
      "text/plain": [
       "50000"
      ]
     },
     "execution_count": 5,
     "metadata": {},
     "output_type": "execute_result"
    }
   ],
   "source": [
    "im_train_list = glob.glob(r'{}\\_data_\\data_ml\\cifar-10-picture\\TRAIN\\*\\*.png'.format(PATH_HEAD))\n",
    "len(im_train_list)"
   ]
  },
  {
   "cell_type": "code",
   "execution_count": 6,
   "metadata": {},
   "outputs": [
    {
     "data": {
      "text/plain": [
       "10000"
      ]
     },
     "execution_count": 6,
     "metadata": {},
     "output_type": "execute_result"
    }
   ],
   "source": [
    "im_test_list = glob.glob(r'{}\\_data_\\data_ml\\cifar-10-picture\\TEST\\*\\*.png'.format(PATH_HEAD))\n",
    "len(im_test_list)"
   ]
  },
  {
   "cell_type": "code",
   "execution_count": 7,
   "metadata": {},
   "outputs": [],
   "source": [
    "train_dataset = MyDataset(im_train_list, transform=train_transform)\n",
    "test_dataset = MyDataset(im_test_list,transform=transforms.ToTensor())"
   ]
  },
  {
   "cell_type": "code",
   "execution_count": 8,
   "metadata": {},
   "outputs": [
    {
     "name": "stdout",
     "output_type": "stream",
     "text": [
      "num_of_train 50000\n",
      "num_of_test 10000\n"
     ]
    }
   ],
   "source": [
    "train_loader = DataLoader(dataset=train_dataset,\n",
    "                               batch_size=128,\n",
    "                               shuffle=True,\n",
    "                               num_workers=4)\n",
    "\n",
    "test_loader = DataLoader(dataset=test_dataset,\n",
    "                               batch_size=128,\n",
    "                               shuffle=False,\n",
    "                               num_workers=4)\n",
    "\n",
    "print(\"num_of_train\", len(train_dataset))\n",
    "print(\"num_of_test\", len(test_dataset))"
   ]
  },
  {
   "cell_type": "code",
   "execution_count": null,
   "metadata": {},
   "outputs": [],
   "source": []
  }
 ],
 "metadata": {
  "kernelspec": {
   "display_name": "Python 3",
   "language": "python",
   "name": "python3"
  },
  "language_info": {
   "codemirror_mode": {
    "name": "ipython",
    "version": 3
   },
   "file_extension": ".py",
   "mimetype": "text/x-python",
   "name": "python",
   "nbconvert_exporter": "python",
   "pygments_lexer": "ipython3",
   "version": "3.7.6"
  }
 },
 "nbformat": 4,
 "nbformat_minor": 4
}
