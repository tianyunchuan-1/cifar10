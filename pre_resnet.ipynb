{
 "cells": [
  {
   "cell_type": "code",
   "execution_count": 1,
   "metadata": {},
   "outputs": [],
   "source": [
    "import torch.nn as nn\n",
    "from torchvision import models"
   ]
  },
  {
   "cell_type": "code",
   "execution_count": null,
   "metadata": {},
   "outputs": [],
   "source": [
    "import torch.nn as nn\n",
    "from torchvision import models\n",
    "\n",
    "class resnet18(nn.Module):\n",
    "    def __init__(self):\n",
    "        super(resnet18,self).__init__()\n",
    "        self.model = models.resnet18(pretrained=True)\n",
    "        self.num_features = self.model.fc.in_features\n",
    "        self.model.fc = nn.Linear(self.num_features, 10)\n",
    "        \n",
    "    def forward(self,x):\n",
    "        out = self.model(x)\n",
    "        return out\n",
    "    \n",
    "def pytorch_resnet18():\n",
    "    return resnet18()\n"
   ]
  }
 ],
 "metadata": {
  "kernelspec": {
   "display_name": "Python 3",
   "language": "python",
   "name": "python3"
  },
  "language_info": {
   "codemirror_mode": {
    "name": "ipython",
    "version": 3
   },
   "file_extension": ".py",
   "mimetype": "text/x-python",
   "name": "python",
   "nbconvert_exporter": "python",
   "pygments_lexer": "ipython3",
   "version": "3.7.6"
  }
 },
 "nbformat": 4,
 "nbformat_minor": 4
}
